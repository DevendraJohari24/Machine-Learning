{
 "cells": [
  {
   "cell_type": "code",
   "execution_count": 1,
   "metadata": {},
   "outputs": [],
   "source": [
    "import pandas as pd\n",
    "import numpy as np\n",
    "%matplotlib inline\n",
    "import matplotlib as mpl\n",
    "import matplotlib.pyplot as plt"
   ]
  },
  {
   "cell_type": "code",
   "execution_count": 2,
   "metadata": {},
   "outputs": [],
   "source": [
    "import tensorflow as tf\n",
    "from tensorflow import keras"
   ]
  },
  {
   "cell_type": "code",
   "execution_count": 3,
   "metadata": {},
   "outputs": [
    {
     "data": {
      "text/plain": [
       "'/home/dev/Documents/DeepLearning'"
      ]
     },
     "execution_count": 3,
     "metadata": {},
     "output_type": "execute_result"
    }
   ],
   "source": [
    "%pwd"
   ]
  },
  {
   "cell_type": "code",
   "execution_count": 4,
   "metadata": {},
   "outputs": [],
   "source": [
    "train_dir = r'/home/dev/Documents/Datasets/cats_and_dogs_small/train/'"
   ]
  },
  {
   "cell_type": "code",
   "execution_count": 7,
   "metadata": {},
   "outputs": [],
   "source": [
    "validation_dir = r'/home/dev/Documents/Datasets/cats_and_dogs_small/validation/'"
   ]
  },
  {
   "cell_type": "code",
   "execution_count": 8,
   "metadata": {},
   "outputs": [],
   "source": [
    "test_dir = r'/home/dev/Documents/Datasets/cats_and_dogs_small/test/'"
   ]
  },
  {
   "cell_type": "markdown",
   "metadata": {},
   "source": [
    "## Data Preprocessing"
   ]
  },
  {
   "cell_type": "code",
   "execution_count": 9,
   "metadata": {},
   "outputs": [],
   "source": [
    "from tensorflow.keras.preprocessing.image import ImageDataGenerator"
   ]
  },
  {
   "cell_type": "code",
   "execution_count": 10,
   "metadata": {},
   "outputs": [],
   "source": [
    "train_datagen = ImageDataGenerator(rescale=1./255)\n",
    "test_datagen = ImageDataGenerator(rescale=1./255)"
   ]
  },
  {
   "cell_type": "code",
   "execution_count": 11,
   "metadata": {},
   "outputs": [
    {
     "name": "stdout",
     "output_type": "stream",
     "text": [
      "Found 2000 images belonging to 2 classes.\n"
     ]
    }
   ],
   "source": [
    "train_generator = train_datagen.flow_from_directory(\n",
    "train_dir, target_size=(150,150), batch_size=20, class_mode='binary')"
   ]
  },
  {
   "cell_type": "code",
   "execution_count": 12,
   "metadata": {},
   "outputs": [
    {
     "name": "stdout",
     "output_type": "stream",
     "text": [
      "Found 1000 images belonging to 2 classes.\n"
     ]
    }
   ],
   "source": [
    "validation_generator = train_datagen.flow_from_directory(\n",
    "validation_dir, target_size=(150,150), batch_size=20, class_mode='binary')"
   ]
  },
  {
   "cell_type": "code",
   "execution_count": 13,
   "metadata": {},
   "outputs": [],
   "source": [
    "from tensorflow.keras import layers\n",
    "from tensorflow.keras import models"
   ]
  },
  {
   "cell_type": "code",
   "execution_count": 14,
   "metadata": {},
   "outputs": [],
   "source": [
    "model = models.Sequential()"
   ]
  },
  {
   "cell_type": "code",
   "execution_count": 16,
   "metadata": {},
   "outputs": [],
   "source": [
    "model.add(layers.Conv2D(32,(3,3),activation='relu', input_shape=(150,150,3)))"
   ]
  },
  {
   "cell_type": "code",
   "execution_count": 18,
   "metadata": {},
   "outputs": [],
   "source": [
    "model.add(layers.MaxPool2D((2,2)))"
   ]
  },
  {
   "cell_type": "code",
   "execution_count": 19,
   "metadata": {},
   "outputs": [],
   "source": [
    "model.add(layers.Conv2D(64,(3,3),activation='relu'))"
   ]
  },
  {
   "cell_type": "code",
   "execution_count": 20,
   "metadata": {},
   "outputs": [],
   "source": [
    "model.add(layers.MaxPool2D((2,2)))"
   ]
  },
  {
   "cell_type": "code",
   "execution_count": 21,
   "metadata": {},
   "outputs": [],
   "source": [
    "model.add(layers.Conv2D(128,(3,3),activation='relu'))model = models.Sequential()\n",
    "model.add(layers.Conv2D(32,(3,3),activation='relu', input_shape=(150,150,3)))\n",
    "model.add(layers.MaxPool2D((2,2)))\n",
    "model.add(layers.Conv2D(64,(3,3),activation='relu'))\n",
    "model.add(layers.MaxPool2D((2,2)))\n",
    "model.add(layers.Conv2D(128,(3,3),activation='relu'))\n",
    "model.add(layers.MaxPool2D((2,2)))\n",
    "model.add(layers.Flatten())\n",
    "model.add(layers.Dropout(0.5))\n",
    "model.add(layers.Dense(512, activation='relu'))\n",
    "model.add(layers.Dense(1,activation='sigmoid'))"
   ]
  },
  {
   "cell_type": "code",
   "execution_count": 22,
   "metadata": {},
   "outputs": [],
   "source": [
    "model.add(layers.MaxPool2D((2,2)))"
   ]
  },
  {
   "cell_type": "code",
   "execution_count": 23,
   "metadata": {},
   "outputs": [],
   "source": [
    "model.add(layers.Flatten())"
   ]
  },
  {
   "cell_type": "code",
   "execution_count": 26,
   "metadata": {},
   "outputs": [],
   "source": [
    "model.add(layers.Dense(512, activation='relu'))"
   ]
  },
  {
   "cell_type": "code",
   "execution_count": 27,
   "metadata": {},
   "outputs": [],
   "source": [
    "model.add(layers.Dense(1,activation='sigmoid'))"
   ]
  },
  {
   "cell_type": "code",
   "execution_count": 28,
   "metadata": {},
   "outputs": [
    {
     "name": "stdout",
     "output_type": "stream",
     "text": [
      "Model: \"sequential\"\n",
      "_________________________________________________________________\n",
      "Layer (type)                 Output Shape              Param #   \n",
      "=================================================================\n",
      "conv2d (Conv2D)              (None, 148, 148, 32)      896       \n",
      "_________________________________________________________________\n",
      "max_pooling2d (MaxPooling2D) (None, 74, 74, 32)        0         \n",
      "_________________________________________________________________\n",
      "conv2d_1 (Conv2D)            (None, 72, 72, 64)        18496     \n",
      "_________________________________________________________________\n",
      "max_pooling2d_1 (MaxPooling2 (None, 36, 36, 64)        0         \n",
      "_________________________________________________________________\n",
      "conv2d_2 (Conv2D)            (None, 34, 34, 128)       73856     \n",
      "_________________________________________________________________\n",
      "max_pooling2d_2 (MaxPooling2 (None, 17, 17, 128)       0         \n",
      "_________________________________________________________________\n",
      "flatten (Flatten)            (None, 36992)             0         \n",
      "_________________________________________________________________\n",
      "dense (Dense)                (None, 512)               18940416  \n",
      "_________________________________________________________________\n",
      "dense_1 (Dense)              (None, 1)                 513       \n",
      "_________________________________________________________________\n",
      "dense_2 (Dense)              (None, 512)               1024      \n",
      "_________________________________________________________________\n",
      "dense_3 (Dense)              (None, 1)                 513       \n",
      "=================================================================\n",
      "Total params: 19,035,714\n",
      "Trainable params: 19,035,714\n",
      "Non-trainable params: 0\n",
      "_________________________________________________________________\n"
     ]
    }
   ],
   "source": [
    "model.summary()"
   ]
  },
  {
   "cell_type": "code",
   "execution_count": 29,
   "metadata": {},
   "outputs": [],
   "source": [
    "from tensorflow.keras import optimizers"
   ]
  },
  {
   "cell_type": "code",
   "execution_count": 30,
   "metadata": {},
   "outputs": [],
   "source": [
    "model.compile(loss=\"binary_crossentropy\", optimizer=optimizers.RMSprop(lr=1e-4),\n",
    "             metrics=[\"acc\"])"
   ]
  },
  {
   "cell_type": "code",
   "execution_count": 31,
   "metadata": {},
   "outputs": [
    {
     "name": "stderr",
     "output_type": "stream",
     "text": [
      "/home/dev/anaconda3/lib/python3.8/site-packages/tensorflow/python/keras/engine/training.py:1844: UserWarning: `Model.fit_generator` is deprecated and will be removed in a future version. Please use `Model.fit`, which supports generators.\n",
      "  warnings.warn('`Model.fit_generator` is deprecated and '\n"
     ]
    },
    {
     "name": "stdout",
     "output_type": "stream",
     "text": [
      "Epoch 1/20\n",
      "100/100 [==============================] - 57s 563ms/step - loss: 0.6934 - acc: 0.4928 - val_loss: 0.6932 - val_acc: 0.5000\n",
      "Epoch 2/20\n",
      "100/100 [==============================] - 50s 496ms/step - loss: 0.6933 - acc: 0.4943 - val_loss: 0.6931 - val_acc: 0.5000\n",
      "Epoch 3/20\n",
      "100/100 [==============================] - 49s 490ms/step - loss: 0.6931 - acc: 0.5060 - val_loss: 0.6925 - val_acc: 0.5000\n",
      "Epoch 4/20\n",
      "100/100 [==============================] - 48s 480ms/step - loss: 0.6907 - acc: 0.5197 - val_loss: 0.6871 - val_acc: 0.5320\n",
      "Epoch 5/20\n",
      "100/100 [==============================] - 46s 457ms/step - loss: 0.6836 - acc: 0.5976 - val_loss: 0.6772 - val_acc: 0.5950\n",
      "Epoch 6/20\n",
      "100/100 [==============================] - 46s 462ms/step - loss: 0.6717 - acc: 0.6474 - val_loss: 0.6747 - val_acc: 0.5630\n",
      "Epoch 7/20\n",
      "100/100 [==============================] - 46s 465ms/step - loss: 0.6501 - acc: 0.6972 - val_loss: 0.6577 - val_acc: 0.6380\n",
      "Epoch 8/20\n",
      "100/100 [==============================] - 47s 467ms/step - loss: 0.6324 - acc: 0.7355 - val_loss: 0.6494 - val_acc: 0.6510\n",
      "Epoch 9/20\n",
      "100/100 [==============================] - 47s 472ms/step - loss: 0.6066 - acc: 0.7551 - val_loss: 0.6383 - val_acc: 0.6810\n",
      "Epoch 10/20\n",
      "100/100 [==============================] - 47s 470ms/step - loss: 0.5944 - acc: 0.7704 - val_loss: 0.6429 - val_acc: 0.6800\n",
      "Epoch 11/20\n",
      "100/100 [==============================] - 47s 471ms/step - loss: 0.5764 - acc: 0.7846 - val_loss: 0.6898 - val_acc: 0.6190\n",
      "Epoch 12/20\n",
      "100/100 [==============================] - 47s 471ms/step - loss: 0.5457 - acc: 0.8019 - val_loss: 0.6206 - val_acc: 0.6860\n",
      "Epoch 13/20\n",
      "100/100 [==============================] - 47s 475ms/step - loss: 0.5173 - acc: 0.8450 - val_loss: 0.6189 - val_acc: 0.7060\n",
      "Epoch 14/20\n",
      "100/100 [==============================] - 48s 476ms/step - loss: 0.4872 - acc: 0.8536 - val_loss: 0.5996 - val_acc: 0.7030\n",
      "Epoch 15/20\n",
      "100/100 [==============================] - 48s 478ms/step - loss: 0.4556 - acc: 0.8712 - val_loss: 0.6018 - val_acc: 0.7020\n",
      "Epoch 16/20\n",
      "100/100 [==============================] - 48s 477ms/step - loss: 0.4118 - acc: 0.8885 - val_loss: 0.6155 - val_acc: 0.7090\n",
      "Epoch 17/20\n",
      "100/100 [==============================] - 48s 479ms/step - loss: 0.3879 - acc: 0.8914 - val_loss: 0.6522 - val_acc: 0.7080\n",
      "Epoch 18/20\n",
      "100/100 [==============================] - 48s 477ms/step - loss: 0.3551 - acc: 0.9193 - val_loss: 0.6048 - val_acc: 0.7240\n",
      "Epoch 19/20\n",
      "100/100 [==============================] - 48s 480ms/step - loss: 0.3097 - acc: 0.9330 - val_loss: 0.6020 - val_acc: 0.6910\n",
      "Epoch 20/20\n",
      "100/100 [==============================] - 48s 478ms/step - loss: 0.2823 - acc: 0.9346 - val_loss: 0.6183 - val_acc: 0.7100\n"
     ]
    }
   ],
   "source": [
    "history = model.fit_generator(\n",
    "train_generator, steps_per_epoch=100, epochs=20, validation_data=validation_generator, validation_steps=50)"
   ]
  },
  {
   "cell_type": "code",
   "execution_count": 32,
   "metadata": {},
   "outputs": [
    {
     "data": {
      "image/png": "[encoded data removed]",
      "text/plain": [
       "<Figure size 576x360 with 1 Axes>"
      ]
     },
     "metadata": {
      "needs_background": "light"
     },
     "output_type": "display_data"
    }
   ],
   "source": [
    "import pandas as pd\n",
    "pd.DataFrame(history.history).plot(figsize=(8,5))\n",
    "plt.grid(True)\n",
    "plt.gca().set_ylim(0,1)\n",
    "plt.show()"
   ]
  },
  {
   "cell_type": "code",
   "execution_count": 33,
   "metadata": {},
   "outputs": [],
   "source": [
    "model.save(\"model.h5\")"
   ]
  },
  {
   "cell_type": "code",
   "execution_count": 34,
   "metadata": {},
   "outputs": [],
   "source": [
    "from tensorflow.keras import backend as K"
   ]
  },
  {
   "cell_type": "code",
   "execution_count": 35,
   "metadata": {},
   "outputs": [],
   "source": [
    "K.clear_session()"
   ]
  },
  {
   "cell_type": "code",
   "execution_count": 36,
   "metadata": {},
   "outputs": [],
   "source": [
    "del model"
   ]
  },
  {
   "cell_type": "code",
   "execution_count": null,
   "metadata": {},
   "outputs": [],
   "source": []
  },
  {
   "cell_type": "code",
   "execution_count": null,
   "metadata": {},
   "outputs": [],
   "source": []
  },
  {
   "cell_type": "markdown",
   "metadata": {},
   "source": [
    "### Model with Data Argumentation"
   ]
  },
  {
   "cell_type": "code",
   "execution_count": null,
   "metadata": {},
   "outputs": [],
   "source": []
  },
  {
   "cell_type": "code",
   "execution_count": null,
   "metadata": {},
   "outputs": [],
   "source": []
  },
  {
   "cell_type": "code",
   "execution_count": 37,
   "metadata": {},
   "outputs": [],
   "source": [
    "train_datagen = ImageDataGenerator(\n",
    " rescale=1./255,\n",
    " rotation_range=40,\n",
    " width_shift_range=0.2,\n",
    " height_shift_range=0.2,\n",
    " shear_range=0.2,\n",
    " zoom_range=0.2,\n",
    "     horizontal_flip=True,\n",
    " )"
   ]
  },
  {
   "cell_type": "code",
   "execution_count": 38,
   "metadata": {},
   "outputs": [],
   "source": [
    "test_datagen = ImageDataGenerator(rescale=1./255)"
   ]
  },
  {
   "cell_type": "code",
   "execution_count": 76,
   "metadata": {},
   "outputs": [
    {
     "name": "stdout",
     "output_type": "stream",
     "text": [
      "Found 2000 images belonging to 2 classes.\n"
     ]
    }
   ],
   "source": [
    "train_generator = train_datagen.flow_from_directory(\n",
    "    train_dir,\n",
    "target_size=(150,150),\n",
    "batch_size=20,\n",
    "class_mode='binary')"
   ]
  },
  {
   "cell_type": "code",
   "execution_count": 77,
   "metadata": {},
   "outputs": [
    {
     "name": "stdout",
     "output_type": "stream",
     "text": [
      "Found 1000 images belonging to 2 classes.\n"
     ]
    }
   ],
   "source": [
    "validation_generator = test_datagen.flow_from_directory(\n",
    "validation_dir,\n",
    "target_size=(150,150),\n",
    "batch_size=20,\n",
    "class_mode='binary')"
   ]
  },
  {
   "cell_type": "code",
   "execution_count": 78,
   "metadata": {},
   "outputs": [],
   "source": [
    "model = models.Sequential()\n",
    "model.add(layers.Conv2D(32,(3,3),activation='relu', input_shape=(150,150,3)))\n",
    "model.add(layers.MaxPool2D((2,2)))\n",
    "model.add(layers.Conv2D(64,(3,3),activation='relu'))\n",
    "model.add(layers.MaxPool2D((2,2)))\n",
    "model.add(layers.Conv2D(128,(3,3),activation='relu'))\n",
    "model.add(layers.MaxPool2D((2,2)))\n",
    "model.add(layers.Flatten())\n",
    "model.add(layers.Dropout(0.5))\n",
    "model.add(layers.Dense(512, activation='relu'))\n",
    "model.add(layers.Dense(1,activation='sigmoid'))"
   ]
  },
  {
   "cell_type": "code",
   "execution_count": 79,
   "metadata": {},
   "outputs": [
    {
     "name": "stdout",
     "output_type": "stream",
     "text": [
      "Model: \"sequential_1\"\n",
      "_________________________________________________________________\n",
      "Layer (type)                 Output Shape              Param #   \n",
      "=================================================================\n",
      "conv2d_3 (Conv2D)            (None, 148, 148, 32)      896       \n",
      "_________________________________________________________________\n",
      "max_pooling2d_3 (MaxPooling2 (None, 74, 74, 32)        0         \n",
      "_________________________________________________________________\n",
      "conv2d_4 (Conv2D)            (None, 72, 72, 64)        18496     \n",
      "_________________________________________________________________\n",
      "max_pooling2d_4 (MaxPooling2 (None, 36, 36, 64)        0         \n",
      "_________________________________________________________________\n",
      "conv2d_5 (Conv2D)            (None, 34, 34, 128)       73856     \n",
      "_________________________________________________________________\n",
      "max_pooling2d_5 (MaxPooling2 (None, 17, 17, 128)       0         \n",
      "_________________________________________________________________\n",
      "flatten_1 (Flatten)          (None, 36992)             0         \n",
      "_________________________________________________________________\n",
      "dropout_1 (Dropout)          (None, 36992)             0         \n",
      "_________________________________________________________________\n",
      "dense_2 (Dense)              (None, 512)               18940416  \n",
      "_________________________________________________________________\n",
      "dense_3 (Dense)              (None, 1)                 513       \n",
      "=================================================================\n",
      "Total params: 19,034,177\n",
      "Trainable params: 19,034,177\n",
      "Non-trainable params: 0\n",
      "_________________________________________________________________\n"
     ]
    }
   ],
   "source": [
    "model.summary() "
   ]
  },
  {
   "cell_type": "code",
   "execution_count": 80,
   "metadata": {},
   "outputs": [],
   "source": [
    "model.compile(loss=\"binary_crossentropy\", optimizer=optimizers.RMSprop(lr=1e-4),\n",
    "             metrics=[\"acc\"])"
   ]
  },
  {
   "cell_type": "code",
   "execution_count": 81,
   "metadata": {},
   "outputs": [
    {
     "name": "stdout",
     "output_type": "stream",
     "text": [
      "Epoch 1/100\n",
      "100/100 [==============================] - 47s 466ms/step - loss: 0.7311 - acc: 0.5148 - val_loss: 0.6772 - val_acc: 0.5360\n",
      "Epoch 2/100\n",
      "100/100 [==============================] - 51s 508ms/step - loss: 0.6768 - acc: 0.5603 - val_loss: 0.6402 - val_acc: 0.6260\n",
      "Epoch 3/100\n",
      "100/100 [==============================] - 54s 534ms/step - loss: 0.6365 - acc: 0.6422 - val_loss: 0.6211 - val_acc: 0.6520\n",
      "Epoch 4/100\n",
      "100/100 [==============================] - 53s 533ms/step - loss: 0.6296 - acc: 0.6383 - val_loss: 0.6295 - val_acc: 0.6360\n",
      "Epoch 5/100\n",
      "100/100 [==============================] - 54s 543ms/step - loss: 0.6307 - acc: 0.6248 - val_loss: 0.5917 - val_acc: 0.6670\n",
      "Epoch 6/100\n",
      "100/100 [==============================] - 56s 561ms/step - loss: 0.6181 - acc: 0.6466 - val_loss: 0.5795 - val_acc: 0.6790\n",
      "Epoch 7/100\n",
      "100/100 [==============================] - 61s 610ms/step - loss: 0.6005 - acc: 0.6673 - val_loss: 0.6013 - val_acc: 0.6710\n",
      "Epoch 8/100\n",
      "100/100 [==============================] - 99s 984ms/step - loss: 0.6032 - acc: 0.6736 - val_loss: 0.5857 - val_acc: 0.6850\n",
      "Epoch 9/100\n",
      "100/100 [==============================] - 105s 1s/step - loss: 0.5920 - acc: 0.6633 - val_loss: 0.5910 - val_acc: 0.6820\n",
      "Epoch 10/100\n",
      "100/100 [==============================] - 105s 1s/step - loss: 0.5882 - acc: 0.6735 - val_loss: 0.5566 - val_acc: 0.7060\n",
      "Epoch 11/100\n",
      "100/100 [==============================] - 105s 1s/step - loss: 0.5721 - acc: 0.6873 - val_loss: 0.5578 - val_acc: 0.7100\n",
      "Epoch 12/100\n",
      "100/100 [==============================] - 96s 961ms/step - loss: 0.5747 - acc: 0.6957 - val_loss: 0.5642 - val_acc: 0.7060\n",
      "Epoch 13/100\n",
      "100/100 [==============================] - 96s 954ms/step - loss: 0.5903 - acc: 0.7006 - val_loss: 0.5478 - val_acc: 0.7090\n",
      "Epoch 14/100\n",
      "100/100 [==============================] - 96s 958ms/step - loss: 0.5740 - acc: 0.6982 - val_loss: 0.5584 - val_acc: 0.6930\n",
      "Epoch 15/100\n",
      "100/100 [==============================] - 96s 954ms/step - loss: 0.5670 - acc: 0.7074 - val_loss: 0.5579 - val_acc: 0.7140\n",
      "Epoch 16/100\n",
      "100/100 [==============================] - 95s 950ms/step - loss: 0.5434 - acc: 0.7245 - val_loss: 0.5241 - val_acc: 0.7420\n",
      "Epoch 17/100\n",
      "100/100 [==============================] - 95s 949ms/step - loss: 0.5797 - acc: 0.6955 - val_loss: 0.5256 - val_acc: 0.7190\n",
      "Epoch 18/100\n",
      "100/100 [==============================] - 96s 951ms/step - loss: 0.5509 - acc: 0.7272 - val_loss: 0.5108 - val_acc: 0.7510\n",
      "Epoch 19/100\n",
      "100/100 [==============================] - 99s 989ms/step - loss: 0.5321 - acc: 0.7432 - val_loss: 0.6964 - val_acc: 0.6280\n",
      "Epoch 20/100\n",
      "100/100 [==============================] - 99s 982ms/step - loss: 0.5625 - acc: 0.7035 - val_loss: 0.6322 - val_acc: 0.6970\n",
      "Epoch 21/100\n",
      "100/100 [==============================] - 96s 963ms/step - loss: 0.5324 - acc: 0.7235 - val_loss: 0.5091 - val_acc: 0.7520\n",
      "Epoch 22/100\n",
      "100/100 [==============================] - 96s 953ms/step - loss: 0.5443 - acc: 0.7064 - val_loss: 0.5376 - val_acc: 0.7270\n",
      "Epoch 23/100\n",
      "100/100 [==============================] - 95s 947ms/step - loss: 0.5354 - acc: 0.7183 - val_loss: 0.5275 - val_acc: 0.7360\n",
      "Epoch 24/100\n",
      "100/100 [==============================] - 97s 965ms/step - loss: 0.5414 - acc: 0.7261 - val_loss: 0.5027 - val_acc: 0.7470\n",
      "Epoch 25/100\n",
      "100/100 [==============================] - 105s 1s/step - loss: 0.5170 - acc: 0.7461 - val_loss: 0.5925 - val_acc: 0.7120\n",
      "Epoch 26/100\n",
      "100/100 [==============================] - 98s 974ms/step - loss: 0.5441 - acc: 0.7172 - val_loss: 0.4900 - val_acc: 0.7560\n",
      "Epoch 27/100\n",
      "100/100 [==============================] - 94s 940ms/step - loss: 0.5055 - acc: 0.7482 - val_loss: 0.4864 - val_acc: 0.7600\n",
      "Epoch 28/100\n",
      "100/100 [==============================] - 94s 934ms/step - loss: 0.5252 - acc: 0.7361 - val_loss: 0.5611 - val_acc: 0.7220\n",
      "Epoch 29/100\n",
      "100/100 [==============================] - 93s 930ms/step - loss: 0.5060 - acc: 0.7393 - val_loss: 0.4994 - val_acc: 0.7390\n",
      "Epoch 30/100\n",
      "100/100 [==============================] - 94s 940ms/step - loss: 0.5271 - acc: 0.7351 - val_loss: 0.5449 - val_acc: 0.7320\n",
      "Epoch 31/100\n",
      "100/100 [==============================] - 94s 936ms/step - loss: 0.5280 - acc: 0.7290 - val_loss: 0.4878 - val_acc: 0.7630\n",
      "Epoch 32/100\n",
      "100/100 [==============================] - 99s 993ms/step - loss: 0.5139 - acc: 0.7406 - val_loss: 0.4738 - val_acc: 0.7700\n",
      "Epoch 33/100\n",
      "100/100 [==============================] - 96s 957ms/step - loss: 0.5051 - acc: 0.7410 - val_loss: 0.4874 - val_acc: 0.7680\n",
      "Epoch 34/100\n",
      "100/100 [==============================] - 94s 932ms/step - loss: 0.4906 - acc: 0.7713 - val_loss: 0.4575 - val_acc: 0.7790\n",
      "Epoch 35/100\n",
      "100/100 [==============================] - 94s 942ms/step - loss: 0.4969 - acc: 0.7518 - val_loss: 0.5752 - val_acc: 0.7240\n",
      "Epoch 36/100\n",
      "100/100 [==============================] - 94s 940ms/step - loss: 0.5122 - acc: 0.7529 - val_loss: 0.4794 - val_acc: 0.7730\n",
      "Epoch 37/100\n",
      "100/100 [==============================] - 94s 935ms/step - loss: 0.4853 - acc: 0.7728 - val_loss: 0.5095 - val_acc: 0.7340\n",
      "Epoch 38/100\n",
      "100/100 [==============================] - 96s 953ms/step - loss: 0.5009 - acc: 0.7409 - val_loss: 0.5149 - val_acc: 0.7360\n",
      "Epoch 39/100\n",
      "100/100 [==============================] - 96s 958ms/step - loss: 0.5085 - acc: 0.7560 - val_loss: 0.4772 - val_acc: 0.7640\n",
      "Epoch 40/100\n",
      "100/100 [==============================] - 97s 971ms/step - loss: 0.4837 - acc: 0.7635 - val_loss: 0.4626 - val_acc: 0.7730\n",
      "Epoch 41/100\n",
      "100/100 [==============================] - 98s 981ms/step - loss: 0.4854 - acc: 0.7672 - val_loss: 0.4957 - val_acc: 0.7460\n",
      "Epoch 42/100\n",
      "100/100 [==============================] - 98s 977ms/step - loss: 0.5008 - acc: 0.7649 - val_loss: 0.4645 - val_acc: 0.7650\n",
      "Epoch 43/100\n",
      "100/100 [==============================] - 99s 984ms/step - loss: 0.4891 - acc: 0.7618 - val_loss: 0.4818 - val_acc: 0.7650\n",
      "Epoch 44/100\n",
      "100/100 [==============================] - 99s 986ms/step - loss: 0.4875 - acc: 0.7576 - val_loss: 0.4815 - val_acc: 0.7710\n",
      "Epoch 45/100\n",
      "100/100 [==============================] - 104s 1s/step - loss: 0.4887 - acc: 0.7697 - val_loss: 0.4650 - val_acc: 0.7830\n",
      "Epoch 46/100\n",
      "100/100 [==============================] - 101s 1s/step - loss: 0.4816 - acc: 0.7685 - val_loss: 0.4756 - val_acc: 0.7780\n",
      "Epoch 47/100\n",
      "100/100 [==============================] - 98s 976ms/step - loss: 0.4710 - acc: 0.7724 - val_loss: 0.4815 - val_acc: 0.7600\n",
      "Epoch 48/100\n",
      "100/100 [==============================] - 98s 970ms/step - loss: 0.4951 - acc: 0.7564 - val_loss: 0.4623 - val_acc: 0.7850\n",
      "Epoch 49/100\n",
      "100/100 [==============================] - 97s 970ms/step - loss: 0.4773 - acc: 0.7767 - val_loss: 0.4941 - val_acc: 0.7510\n",
      "Epoch 50/100\n",
      "100/100 [==============================] - 98s 975ms/step - loss: 0.4666 - acc: 0.7826 - val_loss: 0.4572 - val_acc: 0.7790\n",
      "Epoch 51/100\n",
      "100/100 [==============================] - 98s 977ms/step - loss: 0.4637 - acc: 0.7869 - val_loss: 0.4901 - val_acc: 0.7700\n",
      "Epoch 52/100\n",
      "100/100 [==============================] - 98s 977ms/step - loss: 0.4672 - acc: 0.7769 - val_loss: 0.5583 - val_acc: 0.7510\n",
      "Epoch 53/100\n",
      "100/100 [==============================] - 98s 974ms/step - loss: 0.4756 - acc: 0.7581 - val_loss: 0.4442 - val_acc: 0.7950\n",
      "Epoch 54/100\n",
      "100/100 [==============================] - 98s 978ms/step - loss: 0.4947 - acc: 0.7536 - val_loss: 0.4674 - val_acc: 0.7840\n",
      "Epoch 55/100\n",
      "100/100 [==============================] - 98s 976ms/step - loss: 0.4446 - acc: 0.7850 - val_loss: 0.4722 - val_acc: 0.7810\n",
      "Epoch 56/100\n",
      "100/100 [==============================] - 99s 985ms/step - loss: 0.4841 - acc: 0.7663 - val_loss: 0.4613 - val_acc: 0.7840\n",
      "Epoch 57/100\n",
      "100/100 [==============================] - 99s 991ms/step - loss: 0.4630 - acc: 0.7837 - val_loss: 0.5032 - val_acc: 0.7580\n",
      "Epoch 58/100\n",
      "100/100 [==============================] - 104s 1s/step - loss: 0.4386 - acc: 0.8011 - val_loss: 0.5556 - val_acc: 0.7340\n",
      "Epoch 59/100\n",
      "100/100 [==============================] - 102s 1s/step - loss: 0.4517 - acc: 0.7891 - val_loss: 0.4732 - val_acc: 0.7670\n",
      "Epoch 60/100\n",
      "100/100 [==============================] - 100s 994ms/step - loss: 0.4401 - acc: 0.7875 - val_loss: 0.4629 - val_acc: 0.7740\n"
     ]
    },
    {
     "name": "stdout",
     "output_type": "stream",
     "text": [
      "Epoch 61/100\n",
      "100/100 [==============================] - 100s 998ms/step - loss: 0.4615 - acc: 0.7860 - val_loss: 0.4826 - val_acc: 0.7680\n",
      "Epoch 62/100\n",
      "100/100 [==============================] - 100s 993ms/step - loss: 0.4805 - acc: 0.7613 - val_loss: 0.5237 - val_acc: 0.7460\n",
      "Epoch 63/100\n",
      "100/100 [==============================] - 100s 998ms/step - loss: 0.4368 - acc: 0.8006 - val_loss: 0.4785 - val_acc: 0.7590\n",
      "Epoch 64/100\n",
      "100/100 [==============================] - 100s 992ms/step - loss: 0.4342 - acc: 0.7947 - val_loss: 0.5082 - val_acc: 0.7580\n",
      "Epoch 65/100\n",
      "100/100 [==============================] - 99s 990ms/step - loss: 0.4679 - acc: 0.7760 - val_loss: 0.5054 - val_acc: 0.7710\n",
      "Epoch 66/100\n",
      "100/100 [==============================] - 100s 996ms/step - loss: 0.4432 - acc: 0.8029 - val_loss: 0.4575 - val_acc: 0.7830\n",
      "Epoch 67/100\n",
      "100/100 [==============================] - 100s 1s/step - loss: 0.4534 - acc: 0.7789 - val_loss: 0.4688 - val_acc: 0.7720\n",
      "Epoch 68/100\n",
      "100/100 [==============================] - 100s 999ms/step - loss: 0.4565 - acc: 0.7875 - val_loss: 0.4745 - val_acc: 0.7720\n",
      "Epoch 69/100\n",
      "100/100 [==============================] - 101s 1s/step - loss: 0.4311 - acc: 0.8019 - val_loss: 0.4651 - val_acc: 0.7770\n",
      "Epoch 70/100\n",
      "100/100 [==============================] - 100s 998ms/step - loss: 0.4541 - acc: 0.7847 - val_loss: 0.4946 - val_acc: 0.7550\n",
      "Epoch 71/100\n",
      "100/100 [==============================] - 105s 1s/step - loss: 0.4465 - acc: 0.7761 - val_loss: 0.4764 - val_acc: 0.7820\n",
      "Epoch 72/100\n",
      "100/100 [==============================] - 102s 1s/step - loss: 0.4493 - acc: 0.7749 - val_loss: 0.4642 - val_acc: 0.7740\n",
      "Epoch 73/100\n",
      "100/100 [==============================] - 100s 993ms/step - loss: 0.4430 - acc: 0.7929 - val_loss: 0.4761 - val_acc: 0.7740\n",
      "Epoch 74/100\n",
      "100/100 [==============================] - 100s 992ms/step - loss: 0.4767 - acc: 0.7765 - val_loss: 0.5159 - val_acc: 0.7660\n",
      "Epoch 75/100\n",
      "100/100 [==============================] - 100s 993ms/step - loss: 0.4726 - acc: 0.7840 - val_loss: 0.4598 - val_acc: 0.7940\n",
      "Epoch 76/100\n",
      "100/100 [==============================] - 100s 997ms/step - loss: 0.4433 - acc: 0.7946 - val_loss: 0.4767 - val_acc: 0.7880\n",
      "Epoch 77/100\n",
      "100/100 [==============================] - 99s 985ms/step - loss: 0.4444 - acc: 0.7852 - val_loss: 0.4622 - val_acc: 0.7830\n",
      "Epoch 78/100\n",
      "100/100 [==============================] - 99s 987ms/step - loss: 0.4299 - acc: 0.8010 - val_loss: 0.5272 - val_acc: 0.7420\n",
      "Epoch 79/100\n",
      "100/100 [==============================] - 99s 988ms/step - loss: 0.4528 - acc: 0.7928 - val_loss: 0.4934 - val_acc: 0.7580\n",
      "Epoch 80/100\n",
      "100/100 [==============================] - 99s 989ms/step - loss: 0.4419 - acc: 0.7921 - val_loss: 0.4844 - val_acc: 0.7730\n",
      "Epoch 81/100\n",
      "100/100 [==============================] - 99s 989ms/step - loss: 0.4589 - acc: 0.7885 - val_loss: 0.4826 - val_acc: 0.7770\n",
      "Epoch 82/100\n",
      "100/100 [==============================] - 100s 993ms/step - loss: 0.4440 - acc: 0.7875 - val_loss: 0.5632 - val_acc: 0.7620\n",
      "Epoch 83/100\n",
      "100/100 [==============================] - 99s 985ms/step - loss: 0.4430 - acc: 0.8060 - val_loss: 0.4576 - val_acc: 0.7940\n",
      "Epoch 84/100\n",
      "100/100 [==============================] - 104s 1s/step - loss: 0.4712 - acc: 0.7812 - val_loss: 0.5184 - val_acc: 0.7730\n",
      "Epoch 85/100\n",
      "100/100 [==============================] - 102s 1s/step - loss: 0.4267 - acc: 0.8015 - val_loss: 0.4650 - val_acc: 0.7820\n",
      "Epoch 86/100\n",
      "100/100 [==============================] - 99s 986ms/step - loss: 0.4303 - acc: 0.7938 - val_loss: 0.4645 - val_acc: 0.7830\n",
      "Epoch 87/100\n",
      "100/100 [==============================] - 98s 981ms/step - loss: 0.4372 - acc: 0.7998 - val_loss: 0.4981 - val_acc: 0.7820\n",
      "Epoch 88/100\n",
      "100/100 [==============================] - 99s 988ms/step - loss: 0.4396 - acc: 0.7857 - val_loss: 0.4627 - val_acc: 0.7790\n",
      "Epoch 89/100\n",
      "100/100 [==============================] - 99s 990ms/step - loss: 0.4195 - acc: 0.8193 - val_loss: 0.4892 - val_acc: 0.7850\n",
      "Epoch 90/100\n",
      "100/100 [==============================] - 99s 988ms/step - loss: 0.4377 - acc: 0.8130 - val_loss: 0.4623 - val_acc: 0.7840\n",
      "Epoch 91/100\n",
      "100/100 [==============================] - 99s 983ms/step - loss: 0.4408 - acc: 0.8034 - val_loss: 0.4929 - val_acc: 0.7880\n",
      "Epoch 92/100\n",
      "100/100 [==============================] - 99s 986ms/step - loss: 0.4238 - acc: 0.8082 - val_loss: 0.4860 - val_acc: 0.7630\n",
      "Epoch 93/100\n",
      "100/100 [==============================] - 98s 982ms/step - loss: 0.4391 - acc: 0.7949 - val_loss: 0.6361 - val_acc: 0.7390\n",
      "Epoch 94/100\n",
      "100/100 [==============================] - 100s 994ms/step - loss: 0.4222 - acc: 0.8122 - val_loss: 0.4820 - val_acc: 0.7790\n",
      "Epoch 95/100\n",
      "100/100 [==============================] - 100s 995ms/step - loss: 0.4217 - acc: 0.8120 - val_loss: 0.4832 - val_acc: 0.7730\n",
      "Epoch 96/100\n",
      "100/100 [==============================] - 99s 990ms/step - loss: 0.4156 - acc: 0.8145 - val_loss: 0.4659 - val_acc: 0.7810\n",
      "Epoch 97/100\n",
      "100/100 [==============================] - 106s 1s/step - loss: 0.4103 - acc: 0.8211 - val_loss: 0.4719 - val_acc: 0.7850\n",
      "Epoch 98/100\n",
      "100/100 [==============================] - 103s 1s/step - loss: 0.4260 - acc: 0.7907 - val_loss: 0.5045 - val_acc: 0.7780\n",
      "Epoch 99/100\n",
      "100/100 [==============================] - 100s 994ms/step - loss: 0.4077 - acc: 0.8040 - val_loss: 0.4497 - val_acc: 0.7960\n",
      "Epoch 100/100\n",
      "100/100 [==============================] - 100s 997ms/step - loss: 0.3972 - acc: 0.8273 - val_loss: 0.4702 - val_acc: 0.8000\n"
     ]
    }
   ],
   "source": [
    "history = model.fit_generator(\n",
    "    train_generator, \n",
    "    steps_per_epoch=100, \n",
    "    epochs=100,\n",
    "    validation_data=validation_generator, \n",
    "    validation_steps=50,\n",
    "verbose=1) "
   ]
  },
  {
   "cell_type": "code",
   "execution_count": 82,
   "metadata": {},
   "outputs": [],
   "source": [
    "model.save(\"project_cnn.h5\")"
   ]
  },
  {
   "cell_type": "code",
   "execution_count": 83,
   "metadata": {},
   "outputs": [
    {
     "data": {
      "image/png": "[encoded data removed]",
      "text/plain": [
       "<Figure size 576x360 with 1 Axes>"
      ]
     },
     "metadata": {
      "needs_background": "light"
     },
     "output_type": "display_data"
    }
   ],
   "source": [
    "import pandas as pd\n",
    "pd.DataFrame(history.history).plot(figsize=(8,5))\n",
    "plt.grid(True)\n",
    "plt.gca().set_ylim(0,1)\n",
    "plt.show()"
   ]
  },
  {
   "cell_type": "code",
   "execution_count": null,
   "metadata": {},
   "outputs": [],
   "source": []
  },
  {
   "cell_type": "code",
   "execution_count": null,
   "metadata": {},
   "outputs": [],
   "source": []
  },
  {
   "cell_type": "code",
   "execution_count": 84,
   "metadata": {},
   "outputs": [],
   "source": [
    "hist_df = pd.DataFrame(history.history)"
   ]
  },
  {
   "cell_type": "code",
   "execution_count": 85,
   "metadata": {},
   "outputs": [],
   "source": [
    "hist_csv_file = 'history.csv'"
   ]
  },
  {
   "cell_type": "code",
   "execution_count": 86,
   "metadata": {},
   "outputs": [],
   "source": [
    "with open(hist_csv_file, mode='w') as f:\n",
    "    hist_df.to_csv(f)"
   ]
  },
  {
   "cell_type": "code",
   "execution_count": 87,
   "metadata": {},
   "outputs": [
    {
     "name": "stdout",
     "output_type": "stream",
     "text": [
      "Found 1000 images belonging to 2 classes.\n"
     ]
    }
   ],
   "source": [
    "test_generator = test_datagen.flow_from_directory(\n",
    "test_dir, target_size=(150,150), batch_size=20, class_mode='binary')"
   ]
  },
  {
   "cell_type": "code",
   "execution_count": 88,
   "metadata": {},
   "outputs": [
    {
     "name": "stderr",
     "output_type": "stream",
     "text": [
      "/home/dev/anaconda3/lib/python3.8/site-packages/tensorflow/python/keras/engine/training.py:1877: UserWarning: `Model.evaluate_generator` is deprecated and will be removed in a future version. Please use `Model.evaluate`, which supports generators.\n",
      "  warnings.warn('`Model.evaluate_generator` is deprecated and '\n"
     ]
    },
    {
     "data": {
      "text/plain": [
       "[0.540942907333374, 0.7710000276565552]"
      ]
     },
     "execution_count": 88,
     "metadata": {},
     "output_type": "execute_result"
    }
   ],
   "source": [
    "model.evaluate_generator(test_generator, steps=50)"
   ]
  },
  {
   "cell_type": "code",
   "execution_count": null,
   "metadata": {},
   "outputs": [],
   "source": [
    " "
   ]
  }
 ],
 "metadata": {
  "kernelspec": {
   "display_name": "Python 3",
   "language": "python",
   "name": "python3"
  },
  "language_info": {
   "codemirror_mode": {
    "name": "ipython",
    "version": 3
   },
   "file_extension": ".py",
   "mimetype": "text/x-python",
   "name": "python",
   "nbconvert_exporter": "python",
   "pygments_lexer": "ipython3",
   "version": "3.8.5"
  }
 },
 "nbformat": 4,
 "nbformat_minor": 4
}
