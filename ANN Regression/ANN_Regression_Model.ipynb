{
 "cells": [
  {
   "cell_type": "code",
   "execution_count": 1,
   "metadata": {},
   "outputs": [],
   "source": [
    "import pandas as pd\n",
    "import numpy as np\n",
    "%matplotlib inline\n",
    "import matplotlib as mpl\n",
    "import matplotlib.pyplot as plt"
   ]
  },
  {
   "cell_type": "code",
   "execution_count": 2,
   "metadata": {},
   "outputs": [],
   "source": [
    "import tensorflow as tf\n",
    "from tensorflow import keras"
   ]
  },
  {
   "cell_type": "code",
   "execution_count": 3,
   "metadata": {},
   "outputs": [],
   "source": [
    "from sklearn.datasets import fetch_california_housing\n",
    "housing = fetch_california_housing()"
   ]
  },
  {
   "cell_type": "markdown",
   "metadata": {},
   "source": [
    "## Data Set Characteristics:\n",
    "\n",
    "### Number of Instances:\n",
    "    20640\n",
    "### Number of Attributes:\n",
    "    8 numeric predictive attributes and the target\n",
    "    "
   ]
  },
  {
   "cell_type": "code",
   "execution_count": 23,
   "metadata": {},
   "outputs": [
    {
     "name": "stdout",
     "output_type": "stream",
     "text": [
      "['MedInc', 'HouseAge', 'AveRooms', 'AveBedrms', 'Population', 'AveOccup', 'Latitude', 'Longitude']\n"
     ]
    }
   ],
   "source": [
    "print(housing.feature_names)"
   ]
  },
  {
   "cell_type": "code",
   "execution_count": 24,
   "metadata": {},
   "outputs": [],
   "source": [
    "from sklearn.model_selection import train_test_split"
   ]
  },
  {
   "cell_type": "code",
   "execution_count": 25,
   "metadata": {},
   "outputs": [],
   "source": [
    "X_train_full, X_test, y_train_full , y_test = train_test_split(housing.data, housing.target, random_state=42)"
   ]
  },
  {
   "cell_type": "code",
   "execution_count": 26,
   "metadata": {},
   "outputs": [],
   "source": [
    "X_train, X_valid, y_train, y_valid = train_test_split(X_train_full, y_train_full, random_state=42)"
   ]
  },
  {
   "cell_type": "code",
   "execution_count": 27,
   "metadata": {},
   "outputs": [],
   "source": [
    "from sklearn.preprocessing import StandardScaler"
   ]
  },
  {
   "cell_type": "code",
   "execution_count": 28,
   "metadata": {},
   "outputs": [],
   "source": [
    "scaler = StandardScaler()"
   ]
  },
  {
   "cell_type": "code",
   "execution_count": 29,
   "metadata": {},
   "outputs": [],
   "source": [
    "X_train = scaler.fit_transform(X_train)"
   ]
  },
  {
   "cell_type": "code",
   "execution_count": 30,
   "metadata": {},
   "outputs": [],
   "source": [
    "X_valid = scaler.transform(X_valid)"
   ]
  },
  {
   "cell_type": "code",
   "execution_count": 31,
   "metadata": {},
   "outputs": [],
   "source": [
    "X_test = scaler.transform(X_test)"
   ]
  },
  {
   "cell_type": "code",
   "execution_count": 32,
   "metadata": {},
   "outputs": [],
   "source": [
    "np.random.seed(42)"
   ]
  },
  {
   "cell_type": "code",
   "execution_count": 33,
   "metadata": {},
   "outputs": [],
   "source": [
    "tf.random.set_seed(42)"
   ]
  },
  {
   "cell_type": "code",
   "execution_count": 34,
   "metadata": {},
   "outputs": [
    {
     "data": {
      "text/plain": [
       "(11610, 8)"
      ]
     },
     "execution_count": 34,
     "metadata": {},
     "output_type": "execute_result"
    }
   ],
   "source": [
    "X_train.shape"
   ]
  },
  {
   "cell_type": "code",
   "execution_count": 36,
   "metadata": {},
   "outputs": [],
   "source": [
    "model = keras.models.Sequential([\n",
    "    keras.layers.Dense(30, activation=\"relu\", input_shape=[8]),\n",
    "    keras.layers.Dense(30, activation=\"relu\"),\n",
    "    keras.layers.Dense(1)\n",
    "]) ##     keras.layers.Dense(30, activation=\"relu\", input_shape=X_train.shape[1:]),\n"
   ]
  },
  {
   "cell_type": "code",
   "execution_count": 38,
   "metadata": {},
   "outputs": [
    {
     "name": "stdout",
     "output_type": "stream",
     "text": [
      "Model: \"sequential_1\"\n",
      "_________________________________________________________________\n",
      "Layer (type)                 Output Shape              Param #   \n",
      "=================================================================\n",
      "dense_3 (Dense)              (None, 30)                270       \n",
      "_________________________________________________________________\n",
      "dense_4 (Dense)              (None, 30)                930       \n",
      "_________________________________________________________________\n",
      "dense_5 (Dense)              (None, 1)                 31        \n",
      "=================================================================\n",
      "Total params: 1,231\n",
      "Trainable params: 1,231\n",
      "Non-trainable params: 0\n",
      "_________________________________________________________________\n"
     ]
    }
   ],
   "source": [
    "model.summary()"
   ]
  },
  {
   "cell_type": "code",
   "execution_count": 37,
   "metadata": {},
   "outputs": [],
   "source": [
    "model.compile(loss=\"mean_squared_error\", optimizer=keras.optimizers.SGD(lr=1e-3), metrics=[\"mae\"])"
   ]
  },
  {
   "cell_type": "code",
   "execution_count": 44,
   "metadata": {},
   "outputs": [
    {
     "name": "stdout",
     "output_type": "stream",
     "text": [
      "Epoch 1/20\n",
      "363/363 [==============================] - 0s 1ms/step - loss: 0.3973 - mae: 0.4533 - val_loss: 0.3921 - val_mae: 0.4406\n",
      "Epoch 2/20\n",
      "363/363 [==============================] - 0s 1ms/step - loss: 0.3946 - mae: 0.4510 - val_loss: 0.4173 - val_mae: 0.4453\n",
      "Epoch 3/20\n",
      "363/363 [==============================] - 0s 1ms/step - loss: 0.3923 - mae: 0.4501 - val_loss: 0.4096 - val_mae: 0.4396\n",
      "Epoch 4/20\n",
      "363/363 [==============================] - 0s 1ms/step - loss: 0.3899 - mae: 0.4479 - val_loss: 0.4029 - val_mae: 0.4415\n",
      "Epoch 5/20\n",
      "363/363 [==============================] - 0s 952us/step - loss: 0.3883 - mae: 0.4468 - val_loss: 0.3863 - val_mae: 0.4372\n",
      "Epoch 6/20\n",
      "363/363 [==============================] - 0s 1ms/step - loss: 0.3860 - mae: 0.4453 - val_loss: 0.4001 - val_mae: 0.4364\n",
      "Epoch 7/20\n",
      "363/363 [==============================] - 0s 1ms/step - loss: 0.3846 - mae: 0.4439 - val_loss: 0.3907 - val_mae: 0.4356\n",
      "Epoch 8/20\n",
      "363/363 [==============================] - 0s 1ms/step - loss: 0.3829 - mae: 0.4431 - val_loss: 0.3747 - val_mae: 0.4320\n",
      "Epoch 9/20\n",
      "363/363 [==============================] - 0s 990us/step - loss: 0.3812 - mae: 0.4419 - val_loss: 0.3847 - val_mae: 0.4322\n",
      "Epoch 10/20\n",
      "363/363 [==============================] - 0s 1ms/step - loss: 0.3798 - mae: 0.4408 - val_loss: 0.3928 - val_mae: 0.4315\n",
      "Epoch 11/20\n",
      "363/363 [==============================] - 0s 1ms/step - loss: 0.3786 - mae: 0.4396 - val_loss: 0.3703 - val_mae: 0.4297\n",
      "Epoch 12/20\n",
      "363/363 [==============================] - 1s 2ms/step - loss: 0.3770 - mae: 0.4384 - val_loss: 0.3952 - val_mae: 0.4315\n",
      "Epoch 13/20\n",
      "363/363 [==============================] - 0s 1ms/step - loss: 0.3757 - mae: 0.4377 - val_loss: 0.3852 - val_mae: 0.4321\n",
      "Epoch 14/20\n",
      "363/363 [==============================] - 0s 1ms/step - loss: 0.3744 - mae: 0.4366 - val_loss: 0.3747 - val_mae: 0.4304\n",
      "Epoch 15/20\n",
      "363/363 [==============================] - 0s 1ms/step - loss: 0.3733 - mae: 0.4362 - val_loss: 0.3775 - val_mae: 0.4301\n",
      "Epoch 16/20\n",
      "363/363 [==============================] - 0s 1ms/step - loss: 0.3720 - mae: 0.4356 - val_loss: 0.3676 - val_mae: 0.4275\n",
      "Epoch 17/20\n",
      "363/363 [==============================] - 0s 1ms/step - loss: 0.3710 - mae: 0.4346 - val_loss: 0.3897 - val_mae: 0.4284\n",
      "Epoch 18/20\n",
      "363/363 [==============================] - 0s 988us/step - loss: 0.3704 - mae: 0.4340 - val_loss: 0.3786 - val_mae: 0.4259\n",
      "Epoch 19/20\n",
      "363/363 [==============================] - 0s 1ms/step - loss: 0.3689 - mae: 0.4328 - val_loss: 0.3732 - val_mae: 0.4254\n",
      "Epoch 20/20\n",
      "363/363 [==============================] - 0s 1ms/step - loss: 0.3682 - mae: 0.4323 - val_loss: 0.3982 - val_mae: 0.4290\n"
     ]
    }
   ],
   "source": [
    "model_history = model.fit(X_train,y_train, epochs=20, validation_data=(X_valid, y_valid))"
   ]
  },
  {
   "cell_type": "code",
   "execution_count": 45,
   "metadata": {},
   "outputs": [
    {
     "name": "stdout",
     "output_type": "stream",
     "text": [
      "162/162 [==============================] - 0s 745us/step - loss: 0.3657 - mae: 0.4335\n"
     ]
    }
   ],
   "source": [
    "mae_test = model.evaluate(X_test, y_test)"
   ]
  },
  {
   "cell_type": "code",
   "execution_count": 46,
   "metadata": {},
   "outputs": [
    {
     "data": {
      "text/plain": [
       "{'loss': [0.3972614109516144,\n",
       "  0.3946440815925598,\n",
       "  0.3923467993736267,\n",
       "  0.389914333820343,\n",
       "  0.38828355073928833,\n",
       "  0.38601598143577576,\n",
       "  0.3845558762550354,\n",
       "  0.3829299211502075,\n",
       "  0.3812151253223419,\n",
       "  0.37975209951400757,\n",
       "  0.37856167554855347,\n",
       "  0.3769851624965668,\n",
       "  0.37574344873428345,\n",
       "  0.374422550201416,\n",
       "  0.37328171730041504,\n",
       "  0.3719845712184906,\n",
       "  0.37097036838531494,\n",
       "  0.37035366892814636,\n",
       "  0.3688509464263916,\n",
       "  0.36817675828933716],\n",
       " 'mae': [0.45326945185661316,\n",
       "  0.4509940445423126,\n",
       "  0.45012184977531433,\n",
       "  0.44789832830429077,\n",
       "  0.4467550814151764,\n",
       "  0.4452897608280182,\n",
       "  0.4438946843147278,\n",
       "  0.44309812784194946,\n",
       "  0.44188112020492554,\n",
       "  0.4407649338245392,\n",
       "  0.4395667612552643,\n",
       "  0.43838366866111755,\n",
       "  0.43770632147789,\n",
       "  0.4365854859352112,\n",
       "  0.4361509382724762,\n",
       "  0.43555915355682373,\n",
       "  0.43456244468688965,\n",
       "  0.4340305030345917,\n",
       "  0.43275880813598633,\n",
       "  0.4322732388973236],\n",
       " 'val_loss': [0.3920844793319702,\n",
       "  0.41728314757347107,\n",
       "  0.4096352159976959,\n",
       "  0.402944952249527,\n",
       "  0.3863447606563568,\n",
       "  0.4000833034515381,\n",
       "  0.39073866605758667,\n",
       "  0.3746883273124695,\n",
       "  0.3847387135028839,\n",
       "  0.3928114175796509,\n",
       "  0.37031155824661255,\n",
       "  0.3951948285102844,\n",
       "  0.3852085471153259,\n",
       "  0.37466031312942505,\n",
       "  0.377541184425354,\n",
       "  0.36761367321014404,\n",
       "  0.3897395730018616,\n",
       "  0.37859877943992615,\n",
       "  0.37321630120277405,\n",
       "  0.3981505334377289],\n",
       " 'val_mae': [0.4405767023563385,\n",
       "  0.4453139007091522,\n",
       "  0.439594566822052,\n",
       "  0.4414699077606201,\n",
       "  0.43717917799949646,\n",
       "  0.4364282488822937,\n",
       "  0.43558093905448914,\n",
       "  0.43201807141304016,\n",
       "  0.4321975111961365,\n",
       "  0.4315269887447357,\n",
       "  0.4296512007713318,\n",
       "  0.43146926164627075,\n",
       "  0.43205419182777405,\n",
       "  0.4304388165473938,\n",
       "  0.4300747513771057,\n",
       "  0.4275279939174652,\n",
       "  0.4284205734729767,\n",
       "  0.42587655782699585,\n",
       "  0.42540493607521057,\n",
       "  0.428987979888916]}"
      ]
     },
     "execution_count": 46,
     "metadata": {},
     "output_type": "execute_result"
    }
   ],
   "source": [
    "model_history.history"
   ]
  },
  {
   "cell_type": "code",
   "execution_count": 47,
   "metadata": {},
   "outputs": [
    {
     "data": {
      "image/png": "[encoded data removed]",
      "text/plain": [
       "<Figure size 576x360 with 1 Axes>"
      ]
     },
     "metadata": {
      "needs_background": "light"
     },
     "output_type": "display_data"
    }
   ],
   "source": [
    "pd.DataFrame(model_history.history).plot(figsize=(8,5))\n",
    "plt.grid(True)\n",
    "plt.gca().set_ylim(0,1)\n",
    "plt.show()"
   ]
  },
  {
   "cell_type": "code",
   "execution_count": 48,
   "metadata": {},
   "outputs": [],
   "source": [
    "X_new = X_test[:3]"
   ]
  },
  {
   "cell_type": "code",
   "execution_count": 49,
   "metadata": {},
   "outputs": [],
   "source": [
    "y_proba = model.predict(X_new)"
   ]
  },
  {
   "cell_type": "code",
   "execution_count": 50,
   "metadata": {},
   "outputs": [
    {
     "data": {
      "text/plain": [
       "array([[0.78],\n",
       "       [1.81],\n",
       "       [3.77]], dtype=float32)"
      ]
     },
     "execution_count": 50,
     "metadata": {},
     "output_type": "execute_result"
    }
   ],
   "source": [
    "y_proba.round(2)"
   ]
  },
  {
   "cell_type": "code",
   "execution_count": 52,
   "metadata": {},
   "outputs": [],
   "source": [
    "y_pred = model.predict_classes(X_new)"
   ]
  },
  {
   "cell_type": "code",
   "execution_count": 53,
   "metadata": {},
   "outputs": [
    {
     "data": {
      "text/plain": [
       "array([[1],\n",
       "       [1],\n",
       "       [1]], dtype=int32)"
      ]
     },
     "execution_count": 53,
     "metadata": {},
     "output_type": "execute_result"
    }
   ],
   "source": [
    "y_pred"
   ]
  },
  {
   "cell_type": "code",
   "execution_count": null,
   "metadata": {},
   "outputs": [],
   "source": []
  }
 ],
 "metadata": {
  "kernelspec": {
   "display_name": "Python 3",
   "language": "python",
   "name": "python3"
  },
  "language_info": {
   "codemirror_mode": {
    "name": "ipython",
    "version": 3
   },
   "file_extension": ".py",
   "mimetype": "text/x-python",
   "name": "python",
   "nbconvert_exporter": "python",
   "pygments_lexer": "ipython3",
   "version": "3.8.5"
  }
 },
 "nbformat": 4,
 "nbformat_minor": 4
}
